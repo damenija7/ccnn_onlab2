{
 "cells": [
  {
   "cell_type": "code",
   "execution_count": null,
   "outputs": [],
   "source": [
    "import os\n"
   ],
   "metadata": {
    "collapsed": false
   }
  },
  {
   "cell_type": "code",
   "execution_count": 12,
   "metadata": {
    "collapsed": true,
    "ExecuteTime": {
     "end_time": "2023-09-22T14:36:16.779817473Z",
     "start_time": "2023-09-22T14:36:16.680593391Z"
    }
   },
   "outputs": [],
   "source": [
    "import pandas\n",
    "df_own = pandas.read_csv('../input/input_own.csv')\n",
    "df_deepcoil = pandas.read_csv('../input/deepcoil_train.csv')"
   ]
  },
  {
   "cell_type": "markdown",
   "source": [
    "# Mean Sequence Lengths"
   ],
   "metadata": {
    "collapsed": false
   }
  },
  {
   "cell_type": "code",
   "execution_count": 21,
   "outputs": [
    {
     "name": "stdout",
     "output_type": "stream",
     "text": [
      "own sequence length: sum 1666354, mean 592.7975809320526, std 640.3462758243523\n",
      "deepcoil sequence length: sum 2569729, mean 246.1897873155777, std 115.01994821022242\n"
     ]
    }
   ],
   "source": [
    "own_sequence_lengths = df_own.iloc[:, 1].apply(len)\n",
    "print(f\"own sequence length: sum {own_sequence_lengths.sum()}, mean {own_sequence_lengths.mean()}, std {own_sequence_lengths.std()}\")\n",
    "deepcoil_sequence_lengths = df_deepcoil.iloc[:, 1].apply(len)\n",
    "print(f\"deepcoil sequence length: sum {deepcoil_sequence_lengths.sum()}, mean {deepcoil_sequence_lengths .mean()}, std {deepcoil_sequence_lengths.std()}\")"
   ],
   "metadata": {
    "collapsed": false,
    "ExecuteTime": {
     "end_time": "2023-09-22T14:41:18.546618645Z",
     "start_time": "2023-09-22T14:41:18.493755421Z"
    }
   }
  },
  {
   "cell_type": "code",
   "execution_count": 49,
   "outputs": [
    {
     "name": "stdout",
     "output_type": "stream",
     "text": [
      "own_pos_rate: 0.07154186417883845\n",
      "deepcoil_pos_rate: 0.03026778310086394\n"
     ]
    }
   ],
   "source": [
    "own_pos, own_neg, deepcoil_pos, deepcoil_neg = 0, 0, 0, 0\n",
    "\n",
    "for _, row in df_own.iterrows():\n",
    "    row_label_pos = row['label'].count('1')\n",
    "    own_pos += row_label_pos\n",
    "    own_neg += len(row['label']) - row_label_pos\n",
    "for _, row in df_deepcoil.iterrows():\n",
    "    row_label_pos = row['socket_assignment'].count('1')\n",
    "    deepcoil_pos += row_label_pos\n",
    "    deepcoil_neg += len(row['socket_assignment']) - row_label_pos\n",
    "\n",
    "own_pos_rate = own_pos / (own_pos + own_neg)\n",
    "deepcoil_pos_rate = deepcoil_pos / (deepcoil_pos + deepcoil_neg)\n",
    "print(f\"own_pos_rate: {own_pos_rate}\")\n",
    "print(f\"deepcoil_pos_rate: {deepcoil_pos_rate}\")"
   ],
   "metadata": {
    "collapsed": false,
    "ExecuteTime": {
     "end_time": "2023-09-22T14:49:43.210863467Z",
     "start_time": "2023-09-22T14:49:42.466774673Z"
    }
   }
  },
  {
   "cell_type": "markdown",
   "source": [
    "Min Max Sequence Lengts"
   ],
   "metadata": {
    "collapsed": false
   }
  }
 ],
 "metadata": {
  "kernelspec": {
   "display_name": "Python 3",
   "language": "python",
   "name": "python3"
  },
  "language_info": {
   "codemirror_mode": {
    "name": "ipython",
    "version": 2
   },
   "file_extension": ".py",
   "mimetype": "text/x-python",
   "name": "python",
   "nbconvert_exporter": "python",
   "pygments_lexer": "ipython2",
   "version": "2.7.6"
  }
 },
 "nbformat": 4,
 "nbformat_minor": 0
}
