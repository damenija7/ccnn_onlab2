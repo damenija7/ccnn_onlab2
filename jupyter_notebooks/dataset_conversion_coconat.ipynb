{
 "cells": [
  {
   "cell_type": "code",
   "execution_count": 1,
   "id": "initial_id",
   "metadata": {
    "collapsed": true,
    "ExecuteTime": {
     "end_time": "2023-10-10T10:28:58.646119255Z",
     "start_time": "2023-10-10T10:28:58.633119923Z"
    }
   },
   "outputs": [],
   "source": [
    "# https://coconat.biocomp.unibo.it/datasets/\n",
    "\n",
    "training_pos_path = '../input/training.positive.annot.fasta'\n",
    "training_neg_path = '../input/training.negative.fasta'\n",
    "\n",
    "\n",
    "cross_valid_sets = []\n",
    "for i in range(10):\n",
    "    cross_valid_set_path = f'../input/cv_sets/set{i}'\n",
    "    cross_valid_sets = [line.strip() for line in cross_valid_set_path if len(line.strip()) > 0]\n"
   ]
  },
  {
   "cell_type": "code",
   "execution_count": 5,
   "outputs": [
    {
     "name": "stdout",
     "output_type": "stream",
     "text": [
      "<generator object FastaIterator.iterate at 0x7fc2241eaeb0>\n"
     ]
    }
   ],
   "source": [
    "from Bio import SeqIO\n",
    "\n",
    "training_pos = SeqIO.parse(training_pos_path, 'fasta')\n",
    "training_neg = SeqIO.parse(training_neg_path, 'fasta')\n",
    "print(training_pos.records)"
   ],
   "metadata": {
    "collapsed": false,
    "ExecuteTime": {
     "end_time": "2023-10-10T10:30:08.993593388Z",
     "start_time": "2023-10-10T10:30:08.977993118Z"
    }
   },
   "id": "e903204adeee7c44"
  },
  {
   "cell_type": "code",
   "execution_count": null,
   "outputs": [],
   "source": [],
   "metadata": {
    "collapsed": false
   },
   "id": "1907c9f3546663a6"
  }
 ],
 "metadata": {
  "kernelspec": {
   "display_name": "Python 3",
   "language": "python",
   "name": "python3"
  },
  "language_info": {
   "codemirror_mode": {
    "name": "ipython",
    "version": 2
   },
   "file_extension": ".py",
   "mimetype": "text/x-python",
   "name": "python",
   "nbconvert_exporter": "python",
   "pygments_lexer": "ipython2",
   "version": "2.7.6"
  }
 },
 "nbformat": 4,
 "nbformat_minor": 5
}
