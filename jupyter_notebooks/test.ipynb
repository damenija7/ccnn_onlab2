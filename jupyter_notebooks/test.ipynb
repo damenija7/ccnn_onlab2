{
 "cells": [
  {
   "cell_type": "code",
   "execution_count": 1,
   "metadata": {
    "collapsed": true,
    "ExecuteTime": {
     "end_time": "2023-09-22T17:36:58.582901925Z",
     "start_time": "2023-09-22T17:36:57.095019585Z"
    }
   },
   "outputs": [],
   "source": [
    "from model_training.dataset.cc_prediction_dataset_range import CCPredictionDatasetRange\n",
    "\n",
    "dataset = CCPredictionDatasetRange(\n",
    "    csv_file_path = '../input/input_own.csv'\n",
    ")"
   ]
  },
  {
   "cell_type": "code",
   "execution_count": 1,
   "outputs": [],
   "source": [
    "from model_training.dataset.cc_prediction_dataset_per_residue import CCPredictionDatasetPerResidue\n",
    "\n",
    "ds = CCPredictionDatasetPerResidue('../input/input_own.processed.csv')"
   ],
   "metadata": {
    "collapsed": false,
    "ExecuteTime": {
     "end_time": "2023-10-02T07:15:50.080934386Z",
     "start_time": "2023-10-02T07:15:47.778442288Z"
    }
   }
  },
  {
   "cell_type": "code",
   "execution_count": null,
   "outputs": [],
   "source": [],
   "metadata": {
    "collapsed": false
   }
  },
  {
   "cell_type": "code",
   "execution_count": 3,
   "outputs": [
    {
     "name": "stdout",
     "output_type": "stream",
     "text": [
      "<class 'model_training.dataset.cc_prediction_dataset_per_residue.CCPredictionDatasetPerResidue'>\n"
     ]
    }
   ],
   "source": [
    "\n",
    "print(type(ds))\n"
   ],
   "metadata": {
    "collapsed": false,
    "ExecuteTime": {
     "end_time": "2023-10-02T07:16:14.699012857Z",
     "start_time": "2023-10-02T07:16:14.694542373Z"
    }
   }
  },
  {
   "cell_type": "code",
   "execution_count": null,
   "outputs": [],
   "source": [],
   "metadata": {
    "collapsed": false
   }
  }
 ],
 "metadata": {
  "kernelspec": {
   "display_name": "Python 3",
   "language": "python",
   "name": "python3"
  },
  "language_info": {
   "codemirror_mode": {
    "name": "ipython",
    "version": 2
   },
   "file_extension": ".py",
   "mimetype": "text/x-python",
   "name": "python",
   "nbconvert_exporter": "python",
   "pygments_lexer": "ipython2",
   "version": "2.7.6"
  }
 },
 "nbformat": 4,
 "nbformat_minor": 0
}
