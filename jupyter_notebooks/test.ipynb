{
 "cells": [
  {
   "cell_type": "raw",
   "source": [
    "e#%%\n",
    "mbfrom model_training.dataset.cc_prediction_dataset_range import CCPredictionDatasetRange\n",
    "\n",
    "dataset = CCPredictionDatasetRange(\n",
    "    csv_file_path = '../input/input_own.csv'\n",
    ")"
   ],
   "metadata": {
    "collapsed": false
   }
  },
  {
   "cell_type": "code",
   "execution_count": 1,
   "outputs": [],
   "source": [
    "from model_training.dataset.cc_prediction_dataset_per_residue import CCPredictionDatasetPerResidue\n",
    "\n",
    "ds = CCPredictionDatasetPerResidue('../input/input_own.csv')"
   ],
   "metadata": {
    "collapsed": false,
    "ExecuteTime": {
     "end_time": "2023-10-26T11:29:25.792965896Z",
     "start_time": "2023-10-26T11:29:23.516806902Z"
    }
   }
  },
  {
   "cell_type": "code",
   "execution_count": null,
   "outputs": [],
   "source": [],
   "metadata": {
    "collapsed": false
   }
  },
  {
   "cell_type": "code",
   "execution_count": 2,
   "outputs": [
    {
     "name": "stdout",
     "output_type": "stream",
     "text": [
      "<class 'model_training.dataset.cc_prediction_dataset_per_residue.CCPredictionDatasetPerResidue'>\n"
     ]
    }
   ],
   "source": [
    "\n",
    "print(type(ds))\n"
   ],
   "metadata": {
    "collapsed": false,
    "ExecuteTime": {
     "end_time": "2023-10-26T11:30:04.954114153Z",
     "start_time": "2023-10-26T11:30:04.910905650Z"
    }
   }
  },
  {
   "cell_type": "code",
   "execution_count": null,
   "outputs": [],
   "source": [],
   "metadata": {
    "collapsed": false
   }
  }
 ],
 "metadata": {
  "kernelspec": {
   "display_name": "Python 3",
   "language": "python",
   "name": "python3"
  },
  "language_info": {
   "codemirror_mode": {
    "name": "ipython",
    "version": 2
   },
   "file_extension": ".py",
   "mimetype": "text/x-python",
   "name": "python",
   "nbconvert_exporter": "python",
   "pygments_lexer": "ipython2",
   "version": "2.7.6"
  }
 },
 "nbformat": 4,
 "nbformat_minor": 0
}
